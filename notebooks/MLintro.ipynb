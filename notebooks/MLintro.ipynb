{
 "cells": [
  {
   "cell_type": "code",
   "execution_count": 16,
   "id": "1f6496db",
   "metadata": {},
   "outputs": [],
   "source": [
    "import numpy as np\n",
    "import pandas as pd\n",
    "from sklearn.model_selection import train_test_split\n",
    "from sklearn.pipeline import Pipeline\n",
    "from sklearn.model_selection import KFold\n",
    "from sklearn.impute import SimpleImputer\n",
    "from sklearn.discriminant_analysis import StandardScaler\n",
    "from sklearn.linear_model import LinearRegression\n",
    "from sklearn.model_selection import cross_val_score\n",
    "\n"
   ]
  },
  {
   "cell_type": "code",
   "execution_count": 3,
   "id": "73b65e53",
   "metadata": {},
   "outputs": [
    {
     "data": {
      "text/html": [
       "<div>\n",
       "<style scoped>\n",
       "    .dataframe tbody tr th:only-of-type {\n",
       "        vertical-align: middle;\n",
       "    }\n",
       "\n",
       "    .dataframe tbody tr th {\n",
       "        vertical-align: top;\n",
       "    }\n",
       "\n",
       "    .dataframe thead th {\n",
       "        text-align: right;\n",
       "    }\n",
       "</style>\n",
       "<table border=\"1\" class=\"dataframe\">\n",
       "  <thead>\n",
       "    <tr style=\"text-align: right;\">\n",
       "      <th></th>\n",
       "      <th>ID</th>\n",
       "      <th>Pain</th>\n",
       "      <th>Tampa</th>\n",
       "      <th>Function</th>\n",
       "      <th>JobSocial</th>\n",
       "      <th>FAB</th>\n",
       "      <th>Gender</th>\n",
       "      <th>Radiation</th>\n",
       "    </tr>\n",
       "  </thead>\n",
       "  <tbody>\n",
       "    <tr>\n",
       "      <th>0</th>\n",
       "      <td>1</td>\n",
       "      <td>0.403898</td>\n",
       "      <td>30.921891</td>\n",
       "      <td>4.826643</td>\n",
       "      <td>16.155409</td>\n",
       "      <td>1.062897</td>\n",
       "      <td>0</td>\n",
       "      <td>1</td>\n",
       "    </tr>\n",
       "    <tr>\n",
       "      <th>1</th>\n",
       "      <td>2</td>\n",
       "      <td>2.562100</td>\n",
       "      <td>NaN</td>\n",
       "      <td>4.065259</td>\n",
       "      <td>15.434985</td>\n",
       "      <td>11.351364</td>\n",
       "      <td>0</td>\n",
       "      <td>1</td>\n",
       "    </tr>\n",
       "    <tr>\n",
       "      <th>2</th>\n",
       "      <td>3</td>\n",
       "      <td>3.276718</td>\n",
       "      <td>30.868329</td>\n",
       "      <td>4.408159</td>\n",
       "      <td>19.227138</td>\n",
       "      <td>15.535543</td>\n",
       "      <td>0</td>\n",
       "      <td>0</td>\n",
       "    </tr>\n",
       "    <tr>\n",
       "      <th>3</th>\n",
       "      <td>4</td>\n",
       "      <td>3.365168</td>\n",
       "      <td>NaN</td>\n",
       "      <td>7.735003</td>\n",
       "      <td>17.066277</td>\n",
       "      <td>9.983723</td>\n",
       "      <td>0</td>\n",
       "      <td>0</td>\n",
       "    </tr>\n",
       "    <tr>\n",
       "      <th>4</th>\n",
       "      <td>5</td>\n",
       "      <td>5.596718</td>\n",
       "      <td>41.779669</td>\n",
       "      <td>8.863393</td>\n",
       "      <td>24.183489</td>\n",
       "      <td>22.364428</td>\n",
       "      <td>0</td>\n",
       "      <td>1</td>\n",
       "    </tr>\n",
       "  </tbody>\n",
       "</table>\n",
       "</div>"
      ],
      "text/plain": [
       "   ID      Pain      Tampa  Function  JobSocial        FAB  Gender  Radiation\n",
       "0   1  0.403898  30.921891  4.826643  16.155409   1.062897       0          1\n",
       "1   2  2.562100        NaN  4.065259  15.434985  11.351364       0          1\n",
       "2   3  3.276718  30.868329  4.408159  19.227138  15.535543       0          0\n",
       "3   4  3.365168        NaN  7.735003  17.066277   9.983723       0          0\n",
       "4   5  5.596718  41.779669  8.863393  24.183489  22.364428       0          1"
      ]
     },
     "execution_count": 3,
     "metadata": {},
     "output_type": "execute_result"
    }
   ],
   "source": [
    "# load backpain dataset\n",
    "path = \"C:\\\\Users\\\\mason\\\\OneDrive\\\\Desktop\\\\MATH_3310\\\\InClassLab\\\\MATH3110_project_template\\\\data\\\\raw\\\\BackPain.csv\"\n",
    "backpain = pd.read_csv(path)\n",
    "backpain.head()"
   ]
  },
  {
   "cell_type": "code",
   "execution_count": 4,
   "id": "a63df9a1",
   "metadata": {},
   "outputs": [
    {
     "name": "stdout",
     "output_type": "stream",
     "text": [
      "ID            0\n",
      "Pain         15\n",
      "Tampa        20\n",
      "Function      0\n",
      "JobSocial     0\n",
      "FAB           0\n",
      "Gender        0\n",
      "Radiation     0\n",
      "dtype: int64\n"
     ]
    }
   ],
   "source": [
    "# print null values in each column\n",
    "print(backpain.isnull().sum())"
   ]
  },
  {
   "cell_type": "code",
   "execution_count": 18,
   "id": "f8e8172f",
   "metadata": {},
   "outputs": [
    {
     "name": "stdout",
     "output_type": "stream",
     "text": [
      "<class 'pandas.core.frame.DataFrame'>\n",
      "RangeIndex: 100 entries, 0 to 99\n",
      "Data columns (total 8 columns):\n",
      " #   Column     Non-Null Count  Dtype  \n",
      "---  ------     --------------  -----  \n",
      " 0   ID         100 non-null    int64  \n",
      " 1   Pain       85 non-null     float64\n",
      " 2   Tampa      80 non-null     float64\n",
      " 3   Function   100 non-null    float64\n",
      " 4   JobSocial  100 non-null    float64\n",
      " 5   FAB        100 non-null    float64\n",
      " 6   Gender     100 non-null    int64  \n",
      " 7   Radiation  100 non-null    int64  \n",
      "dtypes: float64(5), int64(3)\n",
      "memory usage: 6.4 KB\n"
     ]
    }
   ],
   "source": [
    "backpain.info()"
   ]
  },
  {
   "cell_type": "code",
   "execution_count": 29,
   "id": "9b284169",
   "metadata": {},
   "outputs": [],
   "source": [
    "# Prepare the data by selecting features and the target variable\n",
    "X = backpain.drop(['ID', 'Function'], axis=1)  # Exclude 'ID' and target variable 'Function' from features\n",
    "y = backpain['Function']  # Target variable\n"
   ]
  },
  {
   "cell_type": "code",
   "execution_count": 30,
   "id": "1d751929",
   "metadata": {},
   "outputs": [
    {
     "data": {
      "text/plain": [
       "Index(['Pain', 'Tampa', 'JobSocial', 'FAB', 'Gender', 'Radiation'], dtype='object')"
      ]
     },
     "execution_count": 30,
     "metadata": {},
     "output_type": "execute_result"
    }
   ],
   "source": [
    "X.columns"
   ]
  },
  {
   "cell_type": "code",
   "execution_count": 31,
   "id": "7dada400",
   "metadata": {},
   "outputs": [],
   "source": [
    "X_train, X_test, y_train, y_test = train_test_split(X, y, test_size=0.2, random_state=42)"
   ]
  },
  {
   "cell_type": "code",
   "execution_count": 35,
   "id": "da6720f9",
   "metadata": {},
   "outputs": [
    {
     "name": "stdout",
     "output_type": "stream",
     "text": [
      "Cross-validation scores: [0.71310983 0.75247462 0.70927088 0.67103958 0.60878305]\n"
     ]
    }
   ],
   "source": [
    "# cross-validation and model training will go here\n",
    "#define a cv fold\n",
    "\n",
    "kf = KFold(n_splits=5, shuffle=True, random_state=42)\n",
    "\n",
    "# create a pipeline to impute missing values and scale features\n",
    "pipe = Pipeline([('imputer', SimpleImputer(strategy='mean')), ('scaler', StandardScaler()), ('lr', LinearRegression())])\n",
    "\n",
    "np.random.seed(42)\n",
    "\n",
    "# fit the pipe using cross-validation\n",
    "cross_val_scores = cross_val_score(pipe, X_train, y_train, cv=kf, scoring='r2')\n",
    "print(\"Cross-validation scores:\", cross_val_scores)"
   ]
  },
  {
   "cell_type": "code",
   "execution_count": 36,
   "id": "a72bc83d",
   "metadata": {},
   "outputs": [
    {
     "name": "stdout",
     "output_type": "stream",
     "text": [
      "Mean CV score: 0.69093559223798\n",
      "Standard deviation of CV scores: 0.04849705894366551\n"
     ]
    }
   ],
   "source": [
    "#compute the mean and standard deviation of the cross-validation scores\n",
    "print(\"Mean CV score:\", np.mean(cross_val_scores))\n",
    "print(\"Standard deviation of CV scores:\", np.std(cross_val_scores))"
   ]
  }
 ],
 "metadata": {
  "kernelspec": {
   "display_name": ".venv",
   "language": "python",
   "name": "python3"
  },
  "language_info": {
   "codemirror_mode": {
    "name": "ipython",
    "version": 3
   },
   "file_extension": ".py",
   "mimetype": "text/x-python",
   "name": "python",
   "nbconvert_exporter": "python",
   "pygments_lexer": "ipython3",
   "version": "3.11.9"
  }
 },
 "nbformat": 4,
 "nbformat_minor": 5
}
